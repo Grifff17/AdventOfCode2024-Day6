{
 "cells": [
  {
   "cell_type": "code",
   "execution_count": 10,
   "metadata": {},
   "outputs": [],
   "source": [
    "import pandas as pd\n",
    "import numpy as np\n",
    "from utils import *\n",
    "import math\n",
    "import functools\n",
    "import copy"
   ]
  },
  {
   "cell_type": "code",
   "execution_count": 2,
   "metadata": {},
   "outputs": [],
   "source": [
    "data = fileRead(\"input.txt\")"
   ]
  },
  {
   "cell_type": "markdown",
   "metadata": {},
   "source": [
    "## Part 1"
   ]
  },
  {
   "cell_type": "code",
   "execution_count": 3,
   "metadata": {},
   "outputs": [],
   "source": [
    "grid = [list(i.strip()) for i in data]"
   ]
  },
  {
   "cell_type": "code",
   "execution_count": 4,
   "metadata": {},
   "outputs": [],
   "source": [
    "dirs = {\"up\":((-1,0),\"right\"),\n",
    "        \"right\":((0,1),\"down\"),\n",
    "        \"down\":((1,0),\"left\"),\n",
    "        \"left\":((0,-1),\"up\")}\n",
    "\n",
    "def step(grid, pos, dir):\n",
    "    newGrid = grid.copy()\n",
    "    newPos = posAdd(pos, dirs[dir][0])\n",
    "    newDir = dir\n",
    "\n",
    "    newGrid[pos[0]][pos[1]] = \"X\"\n",
    "    if not inGrid(newPos, newGrid):\n",
    "        return newGrid, newPos, newDir, True\n",
    "    \n",
    "    if newGrid[newPos[0]][newPos[1]] == \"#\":\n",
    "        newDir = dirs[dir][1]\n",
    "        newPos = posAdd(pos, dirs[newDir][0])\n",
    "        \n",
    "    return newGrid, newPos, newDir, False"
   ]
  },
  {
   "cell_type": "code",
   "execution_count": 5,
   "metadata": {},
   "outputs": [],
   "source": [
    "pos = findInGrid(grid, \"^\")\n",
    "dir = \"up\"\n",
    "done = False\n",
    "while done == False:\n",
    "    grid, pos, dir, done = step(grid, pos, dir)"
   ]
  },
  {
   "cell_type": "code",
   "execution_count": 6,
   "metadata": {},
   "outputs": [
    {
     "data": {
      "text/plain": [
       "5101"
      ]
     },
     "execution_count": 6,
     "metadata": {},
     "output_type": "execute_result"
    }
   ],
   "source": [
    "sum = 0\n",
    "for row in grid:\n",
    "    sum = sum + row.count(\"X\")\n",
    "sum"
   ]
  },
  {
   "cell_type": "markdown",
   "metadata": {},
   "source": [
    "## Part 2"
   ]
  },
  {
   "cell_type": "code",
   "execution_count": 7,
   "metadata": {},
   "outputs": [],
   "source": [
    "obstacles = []\n",
    "for i in range(len(grid)):\n",
    "    for j in range(len(grid[0])):\n",
    "        if grid[i][j] == \"X\":\n",
    "            obstacles.append((i,j))"
   ]
  },
  {
   "cell_type": "code",
   "execution_count": 8,
   "metadata": {},
   "outputs": [],
   "source": [
    "grid2 = [list(i.strip()) for i in data]"
   ]
  },
  {
   "cell_type": "code",
   "execution_count": 13,
   "metadata": {},
   "outputs": [],
   "source": [
    "dirs = {\"up\":((-1,0),\"right\"),\n",
    "        \"right\":((0,1),\"down\"),\n",
    "        \"down\":((1,0),\"left\"),\n",
    "        \"left\":((0,-1),\"up\")}\n",
    "\n",
    "def step2(grid, pos, dir):\n",
    "\n",
    "    travel = posAdd(pos, dirs[dir][0])\n",
    "    while(inGrid(travel, grid) and grid[travel[0]][travel[1]] != \"#\"):\n",
    "        travel = posAdd(travel, dirs[dir][0])\n",
    "\n",
    "    if not inGrid(travel, grid):\n",
    "        return travel, dir, True\n",
    "\n",
    "    newDir = dirs[dir][1]\n",
    "    newPos = posAdd(travel, posMult((-1,-1),dirs[dir][0]))\n",
    "        \n",
    "    return newPos, newDir, False"
   ]
  },
  {
   "cell_type": "code",
   "execution_count": 15,
   "metadata": {},
   "outputs": [
    {
     "name": "stdout",
     "output_type": "stream",
     "text": [
      "0 0\n",
      "100 31\n",
      "200 63\n",
      "300 91\n",
      "400 126\n",
      "500 168\n",
      "600 194\n",
      "700 214\n",
      "800 243\n",
      "900 274\n",
      "1000 299\n",
      "1100 331\n",
      "1200 380\n",
      "1300 421\n",
      "1400 457\n",
      "1500 496\n",
      "1600 548\n",
      "1700 571\n",
      "1800 627\n",
      "1900 673\n",
      "2000 722\n",
      "2100 794\n",
      "2200 825\n",
      "2300 855\n",
      "2400 915\n",
      "2500 937\n",
      "2600 980\n",
      "2700 1012\n",
      "2800 1052\n",
      "2900 1092\n",
      "3000 1147\n",
      "3100 1192\n",
      "3200 1227\n",
      "3300 1270\n",
      "3400 1310\n",
      "3500 1337\n",
      "3600 1369\n",
      "3700 1404\n",
      "3800 1470\n",
      "3900 1496\n",
      "4000 1544\n",
      "4100 1576\n",
      "4200 1601\n",
      "4300 1667\n",
      "4400 1690\n",
      "4500 1715\n",
      "4600 1764\n",
      "4700 1825\n",
      "4800 1857\n",
      "4900 1892\n",
      "5000 1914\n",
      "5100 1950\n"
     ]
    },
    {
     "data": {
      "text/plain": [
       "1951"
      ]
     },
     "execution_count": 15,
     "metadata": {},
     "output_type": "execute_result"
    }
   ],
   "source": [
    "sum = 0\n",
    "for i in range(len(obstacles)):\n",
    "    if i % 100 == 0:\n",
    "        print(i, sum)\n",
    "    obstacle = obstacles[i]\n",
    "    grid3 = copy.deepcopy(grid2)\n",
    "    pos = findInGrid(grid3, \"^\")\n",
    "    if obstacle == pos:\n",
    "        continue\n",
    "    else:\n",
    "        grid3[obstacle[0]][obstacle[1]] = \"#\"\n",
    "\n",
    "    dir = \"up\"\n",
    "    done = False\n",
    "    visited = []\n",
    "\n",
    "    while done == False:\n",
    "        if (pos,dir) in visited:\n",
    "            sum = sum + 1\n",
    "            break\n",
    "        else:\n",
    "            visited.append((pos,dir))\n",
    "        pos, dir, done = step2(grid3, pos, dir)\n",
    "sum\n",
    "    "
   ]
  },
  {
   "cell_type": "code",
   "execution_count": null,
   "metadata": {},
   "outputs": [],
   "source": []
  }
 ],
 "metadata": {
  "kernelspec": {
   "display_name": "base",
   "language": "python",
   "name": "python3"
  },
  "language_info": {
   "codemirror_mode": {
    "name": "ipython",
    "version": 3
   },
   "file_extension": ".py",
   "mimetype": "text/x-python",
   "name": "python",
   "nbconvert_exporter": "python",
   "pygments_lexer": "ipython3",
   "version": "3.11.7"
  }
 },
 "nbformat": 4,
 "nbformat_minor": 2
}
