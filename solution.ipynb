{
 "cells": [
  {
   "cell_type": "code",
   "execution_count": 9,
   "metadata": {},
   "outputs": [],
   "source": [
    "import pandas as pd\n",
    "import numpy as np\n",
    "from utils import fileRead, posAdd, inGrid, findInGrid\n",
    "import math\n",
    "import functools"
   ]
  },
  {
   "cell_type": "code",
   "execution_count": 10,
   "metadata": {},
   "outputs": [],
   "source": [
    "data = fileRead(\"input.txt\")"
   ]
  },
  {
   "cell_type": "markdown",
   "metadata": {},
   "source": [
    "## Part 1"
   ]
  },
  {
   "cell_type": "code",
   "execution_count": 11,
   "metadata": {},
   "outputs": [],
   "source": [
    "grid = [list(i.strip()) for i in data]"
   ]
  },
  {
   "cell_type": "code",
   "execution_count": 12,
   "metadata": {},
   "outputs": [],
   "source": [
    "dirs = {\"up\":((-1,0),\"right\"),\n",
    "        \"right\":((0,1),\"down\"),\n",
    "        \"down\":((1,0),\"left\"),\n",
    "        \"left\":((0,-1),\"up\")}\n",
    "\n",
    "def step(grid, pos, dir):\n",
    "    newGrid = grid.copy()\n",
    "    newPos = posAdd(pos, dirs[dir][0])\n",
    "    newDir = dir\n",
    "\n",
    "    newGrid[pos[0]][pos[1]] = \"X\"\n",
    "    if not inGrid(newPos, newGrid):\n",
    "        return newGrid, newPos, newDir, True\n",
    "    \n",
    "    if newGrid[newPos[0]][newPos[1]] == \"#\":\n",
    "        newDir = dirs[dir][1]\n",
    "        newPos = posAdd(pos, dirs[newDir][0])\n",
    "        \n",
    "    return newGrid, newPos, newDir, False"
   ]
  },
  {
   "cell_type": "code",
   "execution_count": 13,
   "metadata": {},
   "outputs": [],
   "source": [
    "pos = findInGrid(grid, \"^\")\n",
    "dir = \"up\"\n",
    "done = False\n",
    "while done == False:\n",
    "    grid, pos, dir, done = step(grid, pos, dir)"
   ]
  },
  {
   "cell_type": "code",
   "execution_count": 14,
   "metadata": {},
   "outputs": [
    {
     "data": {
      "text/plain": [
       "5101"
      ]
     },
     "execution_count": 14,
     "metadata": {},
     "output_type": "execute_result"
    }
   ],
   "source": [
    "sum = 0\n",
    "for row in grid:\n",
    "    sum = sum + row.count(\"X\")\n",
    "sum"
   ]
  },
  {
   "cell_type": "markdown",
   "metadata": {},
   "source": [
    "## Part 2"
   ]
  },
  {
   "cell_type": "code",
   "execution_count": null,
   "metadata": {},
   "outputs": [],
   "source": []
  }
 ],
 "metadata": {
  "kernelspec": {
   "display_name": "base",
   "language": "python",
   "name": "python3"
  },
  "language_info": {
   "codemirror_mode": {
    "name": "ipython",
    "version": 3
   },
   "file_extension": ".py",
   "mimetype": "text/x-python",
   "name": "python",
   "nbconvert_exporter": "python",
   "pygments_lexer": "ipython3",
   "version": "3.11.7"
  }
 },
 "nbformat": 4,
 "nbformat_minor": 2
}
